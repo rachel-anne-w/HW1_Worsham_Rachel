{
 "cells": [
  {
   "cell_type": "code",
   "execution_count": 1,
   "id": "bd930b7b",
   "metadata": {},
   "outputs": [
    {
     "name": "stdout",
     "output_type": "stream",
     "text": [
      "<class 'list'>\n"
     ]
    }
   ],
   "source": [
    "favcolors = [\"pink\", \"blue\", \"yellow\", \"green\"]\n",
    "print(type(favcolors))"
   ]
  },
  {
   "cell_type": "code",
   "execution_count": 2,
   "id": "f269f60d",
   "metadata": {},
   "outputs": [
    {
     "name": "stdout",
     "output_type": "stream",
     "text": [
      "[30, 33, 36, 39, 42, 45, 48, 51, 54, 57, 60]\n"
     ]
    }
   ],
   "source": [
    "num2 = list(range(30,61,3))\n",
    "print(num2)"
   ]
  },
  {
   "cell_type": "code",
   "execution_count": 3,
   "id": "6717db1c",
   "metadata": {},
   "outputs": [
    {
     "name": "stdout",
     "output_type": "stream",
     "text": [
      "(30, 33, 36, 39, 42, 45, 48, 51, 54, 57, 60)\n",
      "<class 'tuple'>\n"
     ]
    }
   ],
   "source": [
    "num2_tuple = (30, 33, 36, 39, 42, 45, 48, 51, 54, 57, 60)\n",
    "print(num2_tuple)\n",
    "print(type(num2_tuple))"
   ]
  },
  {
   "cell_type": "code",
   "execution_count": 4,
   "id": "e4585c3f",
   "metadata": {},
   "outputs": [
    {
     "name": "stdout",
     "output_type": "stream",
     "text": [
      "[]\n",
      "[0, 1, 2, 3, 4, 5]\n",
      "[0, 1, 3, 4, 5]\n",
      "[0, 1, 2.0, 3, 4, 5]\n",
      "6\n",
      "5\n",
      "0\n"
     ]
    }
   ],
   "source": [
    "list3 = []\n",
    "print(list3)\n",
    "for item in range(0,6):\n",
    "    list3.append(item)\n",
    "print(list3)\n",
    "\n",
    "del list3[2]\n",
    "print(list3)\n",
    "\n",
    "list3.insert(2,2.0)\n",
    "print(list3)\n",
    "\n",
    "print(len(list3))\n",
    "print(max(list3))\n",
    "print(min(list3))"
   ]
  },
  {
   "cell_type": "code",
   "execution_count": 5,
   "id": "79e9deb7",
   "metadata": {},
   "outputs": [
    {
     "name": "stdout",
     "output_type": "stream",
     "text": [
      "[1, 2, 3, 4, 5, 6, 7, 8, 9, 10]\n",
      "1\n",
      "2\n",
      "3\n",
      "4\n",
      "5\n",
      "6\n",
      "7\n",
      "8\n",
      "9\n",
      "10\n"
     ]
    }
   ],
   "source": [
    "num4 = list(range(1,11))\n",
    "print(num4)\n",
    "total = 0\n",
    "for number in num4:\n",
    "    total =+ number\n",
    "    print(total)"
   ]
  },
  {
   "cell_type": "raw",
   "id": "252ff31e",
   "metadata": {},
   "source": []
  }
 ],
 "metadata": {
  "kernelspec": {
   "display_name": "Python 3",
   "language": "python",
   "name": "python3"
  },
  "language_info": {
   "codemirror_mode": {
    "name": "ipython",
    "version": 3
   },
   "file_extension": ".py",
   "mimetype": "text/x-python",
   "name": "python",
   "nbconvert_exporter": "python",
   "pygments_lexer": "ipython3",
   "version": "3.8.8"
  }
 },
 "nbformat": 4,
 "nbformat_minor": 5
}
